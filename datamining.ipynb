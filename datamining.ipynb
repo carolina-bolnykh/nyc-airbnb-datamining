{
  "nbformat": 4,
  "nbformat_minor": 0,
  "metadata": {
    "colab": {
      "provenance": [],
      "include_colab_link": true
    },
    "kernelspec": {
      "name": "python3",
      "display_name": "Python 3"
    },
    "language_info": {
      "name": "python"
    }
  },
  "cells": [
    {
      "cell_type": "markdown",
      "metadata": {
        "id": "view-in-github",
        "colab_type": "text"
      },
      "source": [
        "<a href=\"https://colab.research.google.com/github/carolina-bolnykh/nyc-airbnb-datamining/blob/main/csc422.ipynb\" target=\"_parent\"><img src=\"https://colab.research.google.com/assets/colab-badge.svg\" alt=\"Open In Colab\"/></a>"
      ]
    },
    {
      "cell_type": "markdown",
      "source": [
        "### **Step 1:** Import Packages and Modules"
      ],
      "metadata": {
        "id": "hlb8AS-LuTRx"
      }
    },
    {
      "cell_type": "code",
      "execution_count": null,
      "metadata": {
        "id": "qtrH_lZ4o5Rc"
      },
      "outputs": [],
      "source": [
        "# foundational modules\n",
        "import numpy as np # algebra\n",
        "import pandas as pd # data processing, CSV file I/O (e.g. pd.read_csv)"
      ]
    },
    {
      "cell_type": "code",
      "source": [
        "# visualization\n",
        "import matplotlib.pyplot as plt\n",
        "import seaborn as sns\n",
        "from numpy import sqrt\n",
        "#preprocessing\n",
        "from sklearn.preprocessing import StandardScaler\n",
        "from sklearn.cluster import KMeans\n",
        "%matplotlib inline"
      ],
      "metadata": {
        "id": "D1Ay6uletHXm"
      },
      "execution_count": null,
      "outputs": []
    },
    {
      "cell_type": "markdown",
      "source": [
        "### **Step 2:** Load and Examine Data Set"
      ],
      "metadata": {
        "id": "VYPs6LcGt82z"
      }
    },
    {
      "cell_type": "code",
      "source": [
        "df = pd.read_csv(\"/content/sample_data/AB_NYC_2019.csv\")"
      ],
      "metadata": {
        "id": "xflslCdfuYL4"
      },
      "execution_count": null,
      "outputs": []
    },
    {
      "cell_type": "code",
      "source": [
        "profile_report_html_file = \"airbnb_report.html\"\n",
        "print (\"Profile Report File: \", profile_report_html_file)"
      ],
      "metadata": {
        "colab": {
          "base_uri": "https://localhost:8080/"
        },
        "id": "gUUoZ5Prux10",
        "outputId": "8e21793f-8455-499a-e546-f816076dd307"
      },
      "execution_count": null,
      "outputs": [
        {
          "output_type": "stream",
          "name": "stdout",
          "text": [
            "Profile Report File:  airbnb_report.html\n"
          ]
        }
      ]
    },
    {
      "cell_type": "code",
      "source": [
        "df.head()"
      ],
      "metadata": {
        "colab": {
          "base_uri": "https://localhost:8080/",
          "height": 417
        },
        "id": "JF91VMfpvDuA",
        "outputId": "78fbf5a3-0b82-4ba5-848e-47c6c9661fdf"
      },
      "execution_count": null,
      "outputs": [
        {
          "output_type": "execute_result",
          "data": {
            "text/plain": [
              "     id                                              name  host_id  \\\n",
              "0  2539                Clean & quiet apt home by the park     2787   \n",
              "1  2595                             Skylit Midtown Castle     2845   \n",
              "2  3647               THE VILLAGE OF HARLEM....NEW YORK !     4632   \n",
              "3  3831                   Cozy Entire Floor of Brownstone     4869   \n",
              "4  5022  Entire Apt: Spacious Studio/Loft by central park     7192   \n",
              "\n",
              "     host_name neighbourhood_group neighbourhood  latitude  longitude  \\\n",
              "0         John            Brooklyn    Kensington  40.64749  -73.97237   \n",
              "1     Jennifer           Manhattan       Midtown  40.75362  -73.98377   \n",
              "2    Elisabeth           Manhattan        Harlem  40.80902  -73.94190   \n",
              "3  LisaRoxanne            Brooklyn  Clinton Hill  40.68514  -73.95976   \n",
              "4        Laura           Manhattan   East Harlem  40.79851  -73.94399   \n",
              "\n",
              "         room_type  price  minimum_nights  number_of_reviews last_review  \\\n",
              "0     Private room    149               1                  9  2018-10-19   \n",
              "1  Entire home/apt    225               1                 45  2019-05-21   \n",
              "2     Private room    150               3                  0         NaN   \n",
              "3  Entire home/apt     89               1                270  2019-07-05   \n",
              "4  Entire home/apt     80              10                  9  2018-11-19   \n",
              "\n",
              "   reviews_per_month  calculated_host_listings_count  availability_365  \n",
              "0               0.21                               6               365  \n",
              "1               0.38                               2               355  \n",
              "2                NaN                               1               365  \n",
              "3               4.64                               1               194  \n",
              "4               0.10                               1                 0  "
            ],
            "text/html": [
              "\n",
              "  <div id=\"df-d53adf0a-e8bd-40f8-ab42-c7d093e3a52b\" class=\"colab-df-container\">\n",
              "    <div>\n",
              "<style scoped>\n",
              "    .dataframe tbody tr th:only-of-type {\n",
              "        vertical-align: middle;\n",
              "    }\n",
              "\n",
              "    .dataframe tbody tr th {\n",
              "        vertical-align: top;\n",
              "    }\n",
              "\n",
              "    .dataframe thead th {\n",
              "        text-align: right;\n",
              "    }\n",
              "</style>\n",
              "<table border=\"1\" class=\"dataframe\">\n",
              "  <thead>\n",
              "    <tr style=\"text-align: right;\">\n",
              "      <th></th>\n",
              "      <th>id</th>\n",
              "      <th>name</th>\n",
              "      <th>host_id</th>\n",
              "      <th>host_name</th>\n",
              "      <th>neighbourhood_group</th>\n",
              "      <th>neighbourhood</th>\n",
              "      <th>latitude</th>\n",
              "      <th>longitude</th>\n",
              "      <th>room_type</th>\n",
              "      <th>price</th>\n",
              "      <th>minimum_nights</th>\n",
              "      <th>number_of_reviews</th>\n",
              "      <th>last_review</th>\n",
              "      <th>reviews_per_month</th>\n",
              "      <th>calculated_host_listings_count</th>\n",
              "      <th>availability_365</th>\n",
              "    </tr>\n",
              "  </thead>\n",
              "  <tbody>\n",
              "    <tr>\n",
              "      <th>0</th>\n",
              "      <td>2539</td>\n",
              "      <td>Clean &amp; quiet apt home by the park</td>\n",
              "      <td>2787</td>\n",
              "      <td>John</td>\n",
              "      <td>Brooklyn</td>\n",
              "      <td>Kensington</td>\n",
              "      <td>40.64749</td>\n",
              "      <td>-73.97237</td>\n",
              "      <td>Private room</td>\n",
              "      <td>149</td>\n",
              "      <td>1</td>\n",
              "      <td>9</td>\n",
              "      <td>2018-10-19</td>\n",
              "      <td>0.21</td>\n",
              "      <td>6</td>\n",
              "      <td>365</td>\n",
              "    </tr>\n",
              "    <tr>\n",
              "      <th>1</th>\n",
              "      <td>2595</td>\n",
              "      <td>Skylit Midtown Castle</td>\n",
              "      <td>2845</td>\n",
              "      <td>Jennifer</td>\n",
              "      <td>Manhattan</td>\n",
              "      <td>Midtown</td>\n",
              "      <td>40.75362</td>\n",
              "      <td>-73.98377</td>\n",
              "      <td>Entire home/apt</td>\n",
              "      <td>225</td>\n",
              "      <td>1</td>\n",
              "      <td>45</td>\n",
              "      <td>2019-05-21</td>\n",
              "      <td>0.38</td>\n",
              "      <td>2</td>\n",
              "      <td>355</td>\n",
              "    </tr>\n",
              "    <tr>\n",
              "      <th>2</th>\n",
              "      <td>3647</td>\n",
              "      <td>THE VILLAGE OF HARLEM....NEW YORK !</td>\n",
              "      <td>4632</td>\n",
              "      <td>Elisabeth</td>\n",
              "      <td>Manhattan</td>\n",
              "      <td>Harlem</td>\n",
              "      <td>40.80902</td>\n",
              "      <td>-73.94190</td>\n",
              "      <td>Private room</td>\n",
              "      <td>150</td>\n",
              "      <td>3</td>\n",
              "      <td>0</td>\n",
              "      <td>NaN</td>\n",
              "      <td>NaN</td>\n",
              "      <td>1</td>\n",
              "      <td>365</td>\n",
              "    </tr>\n",
              "    <tr>\n",
              "      <th>3</th>\n",
              "      <td>3831</td>\n",
              "      <td>Cozy Entire Floor of Brownstone</td>\n",
              "      <td>4869</td>\n",
              "      <td>LisaRoxanne</td>\n",
              "      <td>Brooklyn</td>\n",
              "      <td>Clinton Hill</td>\n",
              "      <td>40.68514</td>\n",
              "      <td>-73.95976</td>\n",
              "      <td>Entire home/apt</td>\n",
              "      <td>89</td>\n",
              "      <td>1</td>\n",
              "      <td>270</td>\n",
              "      <td>2019-07-05</td>\n",
              "      <td>4.64</td>\n",
              "      <td>1</td>\n",
              "      <td>194</td>\n",
              "    </tr>\n",
              "    <tr>\n",
              "      <th>4</th>\n",
              "      <td>5022</td>\n",
              "      <td>Entire Apt: Spacious Studio/Loft by central park</td>\n",
              "      <td>7192</td>\n",
              "      <td>Laura</td>\n",
              "      <td>Manhattan</td>\n",
              "      <td>East Harlem</td>\n",
              "      <td>40.79851</td>\n",
              "      <td>-73.94399</td>\n",
              "      <td>Entire home/apt</td>\n",
              "      <td>80</td>\n",
              "      <td>10</td>\n",
              "      <td>9</td>\n",
              "      <td>2018-11-19</td>\n",
              "      <td>0.10</td>\n",
              "      <td>1</td>\n",
              "      <td>0</td>\n",
              "    </tr>\n",
              "  </tbody>\n",
              "</table>\n",
              "</div>\n",
              "    <div class=\"colab-df-buttons\">\n",
              "\n",
              "  <div class=\"colab-df-container\">\n",
              "    <button class=\"colab-df-convert\" onclick=\"convertToInteractive('df-d53adf0a-e8bd-40f8-ab42-c7d093e3a52b')\"\n",
              "            title=\"Convert this dataframe to an interactive table.\"\n",
              "            style=\"display:none;\">\n",
              "\n",
              "  <svg xmlns=\"http://www.w3.org/2000/svg\" height=\"24px\" viewBox=\"0 -960 960 960\">\n",
              "    <path d=\"M120-120v-720h720v720H120Zm60-500h600v-160H180v160Zm220 220h160v-160H400v160Zm0 220h160v-160H400v160ZM180-400h160v-160H180v160Zm440 0h160v-160H620v160ZM180-180h160v-160H180v160Zm440 0h160v-160H620v160Z\"/>\n",
              "  </svg>\n",
              "    </button>\n",
              "\n",
              "  <style>\n",
              "    .colab-df-container {\n",
              "      display:flex;\n",
              "      gap: 12px;\n",
              "    }\n",
              "\n",
              "    .colab-df-convert {\n",
              "      background-color: #E8F0FE;\n",
              "      border: none;\n",
              "      border-radius: 50%;\n",
              "      cursor: pointer;\n",
              "      display: none;\n",
              "      fill: #1967D2;\n",
              "      height: 32px;\n",
              "      padding: 0 0 0 0;\n",
              "      width: 32px;\n",
              "    }\n",
              "\n",
              "    .colab-df-convert:hover {\n",
              "      background-color: #E2EBFA;\n",
              "      box-shadow: 0px 1px 2px rgba(60, 64, 67, 0.3), 0px 1px 3px 1px rgba(60, 64, 67, 0.15);\n",
              "      fill: #174EA6;\n",
              "    }\n",
              "\n",
              "    .colab-df-buttons div {\n",
              "      margin-bottom: 4px;\n",
              "    }\n",
              "\n",
              "    [theme=dark] .colab-df-convert {\n",
              "      background-color: #3B4455;\n",
              "      fill: #D2E3FC;\n",
              "    }\n",
              "\n",
              "    [theme=dark] .colab-df-convert:hover {\n",
              "      background-color: #434B5C;\n",
              "      box-shadow: 0px 1px 3px 1px rgba(0, 0, 0, 0.15);\n",
              "      filter: drop-shadow(0px 1px 2px rgba(0, 0, 0, 0.3));\n",
              "      fill: #FFFFFF;\n",
              "    }\n",
              "  </style>\n",
              "\n",
              "    <script>\n",
              "      const buttonEl =\n",
              "        document.querySelector('#df-d53adf0a-e8bd-40f8-ab42-c7d093e3a52b button.colab-df-convert');\n",
              "      buttonEl.style.display =\n",
              "        google.colab.kernel.accessAllowed ? 'block' : 'none';\n",
              "\n",
              "      async function convertToInteractive(key) {\n",
              "        const element = document.querySelector('#df-d53adf0a-e8bd-40f8-ab42-c7d093e3a52b');\n",
              "        const dataTable =\n",
              "          await google.colab.kernel.invokeFunction('convertToInteractive',\n",
              "                                                    [key], {});\n",
              "        if (!dataTable) return;\n",
              "\n",
              "        const docLinkHtml = 'Like what you see? Visit the ' +\n",
              "          '<a target=\"_blank\" href=https://colab.research.google.com/notebooks/data_table.ipynb>data table notebook</a>'\n",
              "          + ' to learn more about interactive tables.';\n",
              "        element.innerHTML = '';\n",
              "        dataTable['output_type'] = 'display_data';\n",
              "        await google.colab.output.renderOutput(dataTable, element);\n",
              "        const docLink = document.createElement('div');\n",
              "        docLink.innerHTML = docLinkHtml;\n",
              "        element.appendChild(docLink);\n",
              "      }\n",
              "    </script>\n",
              "  </div>\n",
              "\n",
              "\n",
              "<div id=\"df-43cbe80c-d8c6-4537-973a-706bf2017719\">\n",
              "  <button class=\"colab-df-quickchart\" onclick=\"quickchart('df-43cbe80c-d8c6-4537-973a-706bf2017719')\"\n",
              "            title=\"Suggest charts\"\n",
              "            style=\"display:none;\">\n",
              "\n",
              "<svg xmlns=\"http://www.w3.org/2000/svg\" height=\"24px\"viewBox=\"0 0 24 24\"\n",
              "     width=\"24px\">\n",
              "    <g>\n",
              "        <path d=\"M19 3H5c-1.1 0-2 .9-2 2v14c0 1.1.9 2 2 2h14c1.1 0 2-.9 2-2V5c0-1.1-.9-2-2-2zM9 17H7v-7h2v7zm4 0h-2V7h2v10zm4 0h-2v-4h2v4z\"/>\n",
              "    </g>\n",
              "</svg>\n",
              "  </button>\n",
              "\n",
              "<style>\n",
              "  .colab-df-quickchart {\n",
              "      --bg-color: #E8F0FE;\n",
              "      --fill-color: #1967D2;\n",
              "      --hover-bg-color: #E2EBFA;\n",
              "      --hover-fill-color: #174EA6;\n",
              "      --disabled-fill-color: #AAA;\n",
              "      --disabled-bg-color: #DDD;\n",
              "  }\n",
              "\n",
              "  [theme=dark] .colab-df-quickchart {\n",
              "      --bg-color: #3B4455;\n",
              "      --fill-color: #D2E3FC;\n",
              "      --hover-bg-color: #434B5C;\n",
              "      --hover-fill-color: #FFFFFF;\n",
              "      --disabled-bg-color: #3B4455;\n",
              "      --disabled-fill-color: #666;\n",
              "  }\n",
              "\n",
              "  .colab-df-quickchart {\n",
              "    background-color: var(--bg-color);\n",
              "    border: none;\n",
              "    border-radius: 50%;\n",
              "    cursor: pointer;\n",
              "    display: none;\n",
              "    fill: var(--fill-color);\n",
              "    height: 32px;\n",
              "    padding: 0;\n",
              "    width: 32px;\n",
              "  }\n",
              "\n",
              "  .colab-df-quickchart:hover {\n",
              "    background-color: var(--hover-bg-color);\n",
              "    box-shadow: 0 1px 2px rgba(60, 64, 67, 0.3), 0 1px 3px 1px rgba(60, 64, 67, 0.15);\n",
              "    fill: var(--button-hover-fill-color);\n",
              "  }\n",
              "\n",
              "  .colab-df-quickchart-complete:disabled,\n",
              "  .colab-df-quickchart-complete:disabled:hover {\n",
              "    background-color: var(--disabled-bg-color);\n",
              "    fill: var(--disabled-fill-color);\n",
              "    box-shadow: none;\n",
              "  }\n",
              "\n",
              "  .colab-df-spinner {\n",
              "    border: 2px solid var(--fill-color);\n",
              "    border-color: transparent;\n",
              "    border-bottom-color: var(--fill-color);\n",
              "    animation:\n",
              "      spin 1s steps(1) infinite;\n",
              "  }\n",
              "\n",
              "  @keyframes spin {\n",
              "    0% {\n",
              "      border-color: transparent;\n",
              "      border-bottom-color: var(--fill-color);\n",
              "      border-left-color: var(--fill-color);\n",
              "    }\n",
              "    20% {\n",
              "      border-color: transparent;\n",
              "      border-left-color: var(--fill-color);\n",
              "      border-top-color: var(--fill-color);\n",
              "    }\n",
              "    30% {\n",
              "      border-color: transparent;\n",
              "      border-left-color: var(--fill-color);\n",
              "      border-top-color: var(--fill-color);\n",
              "      border-right-color: var(--fill-color);\n",
              "    }\n",
              "    40% {\n",
              "      border-color: transparent;\n",
              "      border-right-color: var(--fill-color);\n",
              "      border-top-color: var(--fill-color);\n",
              "    }\n",
              "    60% {\n",
              "      border-color: transparent;\n",
              "      border-right-color: var(--fill-color);\n",
              "    }\n",
              "    80% {\n",
              "      border-color: transparent;\n",
              "      border-right-color: var(--fill-color);\n",
              "      border-bottom-color: var(--fill-color);\n",
              "    }\n",
              "    90% {\n",
              "      border-color: transparent;\n",
              "      border-bottom-color: var(--fill-color);\n",
              "    }\n",
              "  }\n",
              "</style>\n",
              "\n",
              "  <script>\n",
              "    async function quickchart(key) {\n",
              "      const quickchartButtonEl =\n",
              "        document.querySelector('#' + key + ' button');\n",
              "      quickchartButtonEl.disabled = true;  // To prevent multiple clicks.\n",
              "      quickchartButtonEl.classList.add('colab-df-spinner');\n",
              "      try {\n",
              "        const charts = await google.colab.kernel.invokeFunction(\n",
              "            'suggestCharts', [key], {});\n",
              "      } catch (error) {\n",
              "        console.error('Error during call to suggestCharts:', error);\n",
              "      }\n",
              "      quickchartButtonEl.classList.remove('colab-df-spinner');\n",
              "      quickchartButtonEl.classList.add('colab-df-quickchart-complete');\n",
              "    }\n",
              "    (() => {\n",
              "      let quickchartButtonEl =\n",
              "        document.querySelector('#df-43cbe80c-d8c6-4537-973a-706bf2017719 button');\n",
              "      quickchartButtonEl.style.display =\n",
              "        google.colab.kernel.accessAllowed ? 'block' : 'none';\n",
              "    })();\n",
              "  </script>\n",
              "</div>\n",
              "    </div>\n",
              "  </div>\n"
            ]
          },
          "metadata": {},
          "execution_count": 8
        }
      ]
    },
    {
      "cell_type": "code",
      "source": [
        "# exploring which types of columns we have\n",
        "df.columns"
      ],
      "metadata": {
        "colab": {
          "base_uri": "https://localhost:8080/"
        },
        "id": "HtM9qoX3vGPW",
        "outputId": "7947af38-f7d1-4b7f-943e-e8b4c64f0e31"
      },
      "execution_count": null,
      "outputs": [
        {
          "output_type": "execute_result",
          "data": {
            "text/plain": [
              "Index(['id', 'name', 'host_id', 'host_name', 'neighbourhood_group',\n",
              "       'neighbourhood', 'latitude', 'longitude', 'room_type', 'price',\n",
              "       'minimum_nights', 'number_of_reviews', 'last_review',\n",
              "       'reviews_per_month', 'calculated_host_listings_count',\n",
              "       'availability_365'],\n",
              "      dtype='object')"
            ]
          },
          "metadata": {},
          "execution_count": 9
        }
      ]
    },
    {
      "cell_type": "markdown",
      "source": [
        "### **Step 3:** Data Preprocessing: Cleaning and preparing the dataset for analysis. Handling missing data, removing outliers, and ensuring data quality.\n"
      ],
      "metadata": {
        "id": "yGT89kkawAod"
      }
    },
    {
      "cell_type": "markdown",
      "source": [
        "**Missing Data:** How many missing values for each column\n"
      ],
      "metadata": {
        "id": "8t-flbJgwloB"
      }
    },
    {
      "cell_type": "code",
      "source": [
        "missing_count = df.isna().sum()\n",
        "print(missing_count)"
      ],
      "metadata": {
        "colab": {
          "base_uri": "https://localhost:8080/"
        },
        "id": "2tBNjfyawELQ",
        "outputId": "80c28245-a89e-4ce3-d3df-11910ccefe1a"
      },
      "execution_count": null,
      "outputs": [
        {
          "output_type": "stream",
          "name": "stdout",
          "text": [
            "id                                    0\n",
            "name                                 16\n",
            "host_id                               0\n",
            "host_name                            21\n",
            "neighbourhood_group                   0\n",
            "neighbourhood                         0\n",
            "latitude                              0\n",
            "longitude                             0\n",
            "room_type                             0\n",
            "price                                 0\n",
            "minimum_nights                        0\n",
            "number_of_reviews                     0\n",
            "last_review                       10052\n",
            "reviews_per_month                 10052\n",
            "calculated_host_listings_count        0\n",
            "availability_365                      0\n",
            "dtype: int64\n"
          ]
        }
      ]
    },
    {
      "cell_type": "markdown",
      "source": [
        "Most of the columns/attributes do not have many missing values, however name, host_name, last_review, and reviews_per_month do have missing values. Since last_review, and reviews_per_month have more than 10,000 missing values, we will decide to drop the missing values.\n"
      ],
      "metadata": {
        "id": "nYScc9KeyB8v"
      }
    },
    {
      "cell_type": "code",
      "source": [
        "total_observations = df.shape[0]\n",
        "print(total_observations)"
      ],
      "metadata": {
        "colab": {
          "base_uri": "https://localhost:8080/"
        },
        "id": "uuvDmoJwyVpt",
        "outputId": "b99000d5-5d3e-484c-ae6f-b4907e5d3a97"
      },
      "execution_count": null,
      "outputs": [
        {
          "output_type": "stream",
          "name": "stdout",
          "text": [
            "48895\n"
          ]
        }
      ]
    },
    {
      "cell_type": "markdown",
      "source": [
        "There is a total of 48,895 rows\n",
        "\n",
        "\n",
        "*   10,052 last_review are missing/empty\n",
        "*   10,052 reviews_per_month are missing/empty\n",
        "\n",
        "This is quite a large (20%) percentage of our dataset, but we don't want to drop the entire attribute, but instead we will drop only the missing values since we believe that reviews are going to provide meaningful insights.\n",
        "\n",
        "\n",
        "\n",
        "1.   16 names are missing/empty\n",
        "2.   21 host_names are missing/empty\n",
        "\n",
        "We will be dropping these instances from the attribute since they contribute to such a small part of the dataset (<1%)\n",
        "\n",
        "\n",
        "\n"
      ],
      "metadata": {
        "id": "GWapQseuynop"
      }
    },
    {
      "cell_type": "code",
      "source": [
        "# Dropping rows with missing \"name\" values\n",
        "df = df.dropna(subset=['name'])\n",
        "\n",
        "# Reset the index after dropping rows, so we don't have a pointer to an empty row\n",
        "df = df.reset_index(drop=True)"
      ],
      "metadata": {
        "id": "flc2CLLrzeQe"
      },
      "execution_count": null,
      "outputs": []
    },
    {
      "cell_type": "markdown",
      "source": [
        "If we did this correctly, we should see 16 less rows 48,895 - 16 = 48,879"
      ],
      "metadata": {
        "id": "IiqDbfZl0Cv9"
      }
    },
    {
      "cell_type": "code",
      "source": [
        "total_observations = df.shape[0]\n",
        "print(total_observations)"
      ],
      "metadata": {
        "colab": {
          "base_uri": "https://localhost:8080/"
        },
        "id": "nBU-L2rG0Bg7",
        "outputId": "185ad0a0-ae8f-4321-d808-1096b118f44a"
      },
      "execution_count": null,
      "outputs": [
        {
          "output_type": "stream",
          "name": "stdout",
          "text": [
            "48879\n"
          ]
        }
      ]
    },
    {
      "cell_type": "markdown",
      "source": [
        "Now, let's do the same for all 3 other attributes (drop the rows with  missing instances)"
      ],
      "metadata": {
        "id": "zAufLDOj0QA1"
      }
    },
    {
      "cell_type": "code",
      "source": [
        "df = df.dropna(subset=['host_name'])\n",
        "df = df.reset_index(drop=True)\n",
        "\n",
        "df = df.dropna(subset=['last_review'])\n",
        "df = df.reset_index(drop=True)\n",
        "\n",
        "df = df.dropna(subset=['reviews_per_month'])\n",
        "df = df.reset_index(drop=True)"
      ],
      "metadata": {
        "id": "oR6NPmeX0W3i"
      },
      "execution_count": null,
      "outputs": []
    },
    {
      "cell_type": "code",
      "source": [
        "total_observations = df.shape[0]\n",
        "print(total_observations)"
      ],
      "metadata": {
        "colab": {
          "base_uri": "https://localhost:8080/"
        },
        "id": "yu7i3YU_1oJ_",
        "outputId": "0f2bb9e1-c10d-47ab-8d39-94c9185260a8"
      },
      "execution_count": null,
      "outputs": [
        {
          "output_type": "stream",
          "name": "stdout",
          "text": [
            "38821\n"
          ]
        }
      ]
    },
    {
      "cell_type": "code",
      "source": [
        "# let's confirm that there are no missing values:\n",
        "missing_count = df.isna().sum()\n",
        "print(missing_count)"
      ],
      "metadata": {
        "colab": {
          "base_uri": "https://localhost:8080/"
        },
        "id": "pVSyqA4L13Im",
        "outputId": "4f92bd7c-3adb-4faa-e1ed-b9c49630253c"
      },
      "execution_count": null,
      "outputs": [
        {
          "output_type": "stream",
          "name": "stdout",
          "text": [
            "id                                0\n",
            "name                              0\n",
            "host_id                           0\n",
            "host_name                         0\n",
            "neighbourhood_group               0\n",
            "neighbourhood                     0\n",
            "latitude                          0\n",
            "longitude                         0\n",
            "room_type                         0\n",
            "price                             0\n",
            "minimum_nights                    0\n",
            "number_of_reviews                 0\n",
            "last_review                       0\n",
            "reviews_per_month                 0\n",
            "calculated_host_listings_count    0\n",
            "availability_365                  0\n",
            "dtype: int64\n"
          ]
        }
      ]
    },
    {
      "cell_type": "markdown",
      "source": [
        "We cleaned the dataset and removed missing values (but we did not remove any attributes yet)! That could potentially be something we do during noise filtering. We will not be worried about removing outliers, since this is something we want to explore further in our analysis.\n"
      ],
      "metadata": {
        "id": "u-lb9Tgm1qeK"
      }
    },
    {
      "cell_type": "markdown",
      "source": [
        "**Exploring Outliers** Do we or do we not remove outliers?"
      ],
      "metadata": {
        "id": "7PdRyF3W3U5x"
      }
    },
    {
      "cell_type": "markdown",
      "source": [
        "Visualization for outliers: focusing on numerical attributes\n",
        "-> creating histograms to just get a feel of the data spread for each of the numerical variables\n",
        "-> histograms are the top choice for numerical data\n",
        "\n",
        "\n",
        "*   price\n",
        "*   minimum_nights\n",
        "*   number_of_reviews\n",
        "*   reviews_per_month\n",
        "*   calculated_host_listings_count\n",
        "*   availability_365"
      ],
      "metadata": {
        "id": "3HAPbhhS3rU3"
      }
    },
    {
      "cell_type": "code",
      "source": [
        "numerical_columns = ['price', 'minimum_nights', 'number_of_reviews', 'reviews_per_month',\n",
        "                     'calculated_host_listings_count', 'availability_365']\n",
        "\n",
        "fig, axes = plt.subplots(nrows=2, ncols=3, figsize=(20, 10))\n",
        "\n",
        "for i, column in enumerate(numerical_columns):\n",
        "    ax = axes[i // 3, i % 3]\n",
        "    ax.hist(df[column], bins=20, edgecolor='k')\n",
        "    ax.set_title(column)\n",
        "    ax.set_xlabel(\"Value\")\n",
        "    ax.set_ylabel(\"Frequency\")\n",
        "\n",
        "# Display the plot\n",
        "plt.show()"
      ],
      "metadata": {
        "colab": {
          "base_uri": "https://localhost:8080/",
          "height": 396
        },
        "id": "GidLexo23v1u",
        "outputId": "c70fa33a-58b6-48b4-a545-d7a1499b15f9"
      },
      "execution_count": null,
      "outputs": [
        {
          "output_type": "display_data",
          "data": {
            "text/plain": [
              "<Figure size 2000x1000 with 6 Axes>"
            ],
            "image/png": "[encoded data removed]"
          },
          "metadata": {}
        }
      ]
    },
    {
      "cell_type": "markdown",
      "source": [
        "The preprocessing is done, and the next steps are data mining/exploratory analysis for each one of the variables."
      ],
      "metadata": {
        "id": "3ZfTC3po6xVa"
      }
    },
    {
      "cell_type": "markdown",
      "source": [
        "## Final Report:\n",
        "### identifying patterns related to the distribution of reviews, ratings, and trends over time. Our main question we want to answer is which metric/feature drives price? This will be helpful to airbnb hosts to know what to focus on in order to maximize profits and bookings for their listings, since they will take into account what truly drives pricing in this hidden housing market."
      ],
      "metadata": {
        "id": "6UyfqaMOkIbH"
      }
    },
    {
      "cell_type": "markdown",
      "source": [
        "### Correlation analysis between price and reviews:\n"
      ],
      "metadata": {
        "id": "NFCP6RvAleak"
      }
    },
    {
      "cell_type": "code",
      "source": [
        "columnsToAnalyze = ['number_of_reviews', 'price']\n",
        "dataClusters = df[columnsToAnalyze].dropna()\n",
        "\n",
        "scaler = StandardScaler()\n",
        "scaled_data = scaler.fit_transform(dataClusters)"
      ],
      "metadata": {
        "id": "McKPRjiXtbqi"
      },
      "execution_count": null,
      "outputs": []
    },
    {
      "cell_type": "code",
      "source": [
        "corrl = df[columnsToAnalyze].dropna()"
      ],
      "metadata": {
        "id": "hnhjGQR1tMoQ"
      },
      "execution_count": null,
      "outputs": []
    },
    {
      "cell_type": "code",
      "source": [
        "correlationData = corrl.corr()"
      ],
      "metadata": {
        "id": "Ffv8usgItMxl"
      },
      "execution_count": null,
      "outputs": []
    },
    {
      "cell_type": "code",
      "source": [
        "print(correlationData)"
      ],
      "metadata": {
        "colab": {
          "base_uri": "https://localhost:8080/"
        },
        "id": "XV4j_-8StdHa",
        "outputId": "a26580ad-1cb5-477c-b275-42a00c80d1cb"
      },
      "execution_count": null,
      "outputs": [
        {
          "output_type": "stream",
          "name": "stdout",
          "text": [
            "                   number_of_reviews     price\n",
            "number_of_reviews           1.000000 -0.035924\n",
            "price                      -0.035924  1.000000\n"
          ]
        }
      ]
    },
    {
      "cell_type": "markdown",
      "source": [
        "###Analysis of correlation:\n",
        "How price impacts number of reviews: As the price increases, there is a very weak negative correlation with the number of reviews, indicating that, on average, higher-priced listings tend to have slightly fewer reviews. The correlation coefficient is approximately -0.036%, suggesting a minimal linear relationship between price and the number of reviews"
      ],
      "metadata": {
        "id": "e9RJY2RhtoL5"
      }
    },
    {
      "cell_type": "markdown",
      "source": [
        "###Correlation analysis between availability out of 365 days and price"
      ],
      "metadata": {
        "id": "oHRyu329vE5z"
      }
    },
    {
      "cell_type": "code",
      "source": [
        "columnsToAnalyze = ['availability_365', 'price']\n",
        "dataClusters = df[columnsToAnalyze].dropna()\n",
        "\n",
        "scaler = StandardScaler()\n",
        "scaled_data = scaler.fit_transform(dataClusters)"
      ],
      "metadata": {
        "id": "nrnjJ3kiyAsz"
      },
      "execution_count": null,
      "outputs": []
    },
    {
      "cell_type": "code",
      "source": [
        "corrl = df[columnsToAnalyze].dropna()"
      ],
      "metadata": {
        "id": "76ENQPduyEIJ"
      },
      "execution_count": null,
      "outputs": []
    },
    {
      "cell_type": "code",
      "source": [
        "correlationData = corrl.corr()"
      ],
      "metadata": {
        "id": "Z8LgfEOpyKvX"
      },
      "execution_count": null,
      "outputs": []
    },
    {
      "cell_type": "code",
      "source": [
        "print(correlationData)"
      ],
      "metadata": {
        "colab": {
          "base_uri": "https://localhost:8080/"
        },
        "id": "dugZVShIyLvG",
        "outputId": "dd91431d-10a2-4b12-988f-e8d48116aca0"
      },
      "execution_count": null,
      "outputs": [
        {
          "output_type": "stream",
          "name": "stdout",
          "text": [
            "                  availability_365     price\n",
            "availability_365          1.000000  0.078276\n",
            "price                     0.078276  1.000000\n"
          ]
        }
      ]
    },
    {
      "cell_type": "markdown",
      "source": [
        "**How yearly availablity impacts number of reviews:** As the price increases, there is a very weak positive correlation with the number of reviews, indicating that, on average, higher-priced listings tend to have more availability. The correlation coefficient is approximately 0.078%, suggesting a minimal linear relationship between price and the availability out of 365 days\n"
      ],
      "metadata": {
        "id": "9RF30s5nyPuO"
      }
    },
    {
      "cell_type": "markdown",
      "source": [
        "##Correlation analysis between location and price\n",
        "\n",
        "###Chose ANOVA as the method for categorical groups of variables, like the neighbourhood"
      ],
      "metadata": {
        "id": "3skcXwIty2PR"
      }
    },
    {
      "cell_type": "markdown",
      "source": [
        "Here, our null hypothesis is that there is no correlation between the neighborhood and the price of the Airbnb:\n",
        "\n",
        "H0 = neighborhood **does not** have an effect on price\n",
        "\n",
        "H1 = neighborhood **does** have an effect on price"
      ],
      "metadata": {
        "id": "qpPpn0P401hz"
      }
    },
    {
      "cell_type": "code",
      "source": [
        "from statsmodels.formula.api import ols\n",
        "import statsmodels.api as sm"
      ],
      "metadata": {
        "id": "S_yUY5KOzNuP"
      },
      "execution_count": null,
      "outputs": []
    },
    {
      "cell_type": "code",
      "source": [
        "model = ols('price ~ neighbourhood', data=df).fit()\n",
        "anova_table = sm.stats.anova_lm(model, typ=2)\n",
        "print(anova_table)"
      ],
      "metadata": {
        "colab": {
          "base_uri": "https://localhost:8080/"
        },
        "id": "gJ3SCyPfzZ9p",
        "outputId": "b3f39896-bbc8-42c7-e527-a822ecad88b4"
      },
      "execution_count": null,
      "outputs": [
        {
          "output_type": "stream",
          "name": "stdout",
          "text": [
            "                     sum_sq       df          F  PR(>F)\n",
            "neighbourhood  1.109660e+08    217.0  14.145412     0.0\n",
            "Residual       1.395519e+09  38603.0        NaN     NaN\n"
          ]
        }
      ]
    },
    {
      "cell_type": "markdown",
      "source": [
        "the ANOVA suggests that there is a statistically significant difference in mean prices among different neighbourhoods. The 'neighbourhood' variable appears to have an effect on prices. Since the P-value is 0, we reject the Null hypothesis Ho that neighborhood does not have an effect on price"
      ],
      "metadata": {
        "id": "hJiCGChs0ETo"
      }
    }
  ]
}
